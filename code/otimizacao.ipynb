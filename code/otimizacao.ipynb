{
 "cells": [
  {
   "cell_type": "markdown",
   "metadata": {},
   "source": [
    "# Otimização usando Python"
   ]
  },
  {
   "cell_type": "code",
   "execution_count": 3,
   "metadata": {},
   "outputs": [],
   "source": [
    "import pyomo.environ as pyo"
   ]
  },
  {
   "cell_type": "markdown",
   "metadata": {},
   "source": [
    "Na construção de uma rodovia, empregam-se jazidas de rochas para obtenção de pedra britada.  É conveniente transportar este material de jazidas em pedreiras localizadas nas proximidades para alguns pontos preestabelecidos ao longo do caminho em que passará a estrada.\n",
    "\n",
    "| Depósitos | Pedreira 1 | Pedreira 2 | Pedreira 3 | Oferta |\n",
    "|-----------|-------------|-------------|-------------|--------|\n",
    "| 1         | 30          | 13          | 21          | 433    |\n",
    "| 2         | 12          | 40          | 26          | 215    |\n",
    "| 3         | 27          | 15          | 35          | 782    |\n",
    "| 4         | 37          | 25          | 19          | 300    |\n",
    "Demanda:    | 697         | 421         | 612\n"
   ]
  },
  {
   "cell_type": "markdown",
   "metadata": {},
   "source": [
    "A função objetivo deverá minimizar os custos de transporte das cargas em função da quantidade transportada. Dessa forma, tem-se:\n",
    "\n",
    "$x_{ij}$ é a quantidade (em toneladas) da pedreira i para o depósito j.\n",
    "\n",
    "$\\text{C }min = 30x_{11}+13x_{12}+21x_{13}+12x_{21}+40x_{22}+26x_{23}+27x_{31}+15x_{32}+35x_{33}+37x_{41}+25x_{42}+19x_{43}$\n",
    "\n",
    "em que $\\text{C }min$ é o custo mínimo de transporte.\n",
    "\n",
    "1. Restrição com relação a oferta:\n",
    "\n",
    "$x_{11} + x_{12}+x_{13} \\leq 433$\n",
    "\n",
    "$x_{21}+x_{22}+x_{23} \\leq 215$\n",
    "\n",
    "$x_{31} + x_{32}+x_{33} \\leq 782$\n",
    "\n",
    "$x_{41}+x_{42}+x_{43} \\leq 300$\n",
    "\n",
    "\n",
    "2. Restrição com relação a demanda:\n",
    "\n",
    "$x_{11} + x_{21} + x_{31} + x_{41}= 697$\n",
    "\n",
    "$x_{12} + x_{22} + x_{32} + x_{42}= 421$\n",
    "\n",
    "$x_{13} + x_{23} + x_{33} + x_{43}= 612$\n",
    "\n",
    "\n",
    "3. As variáveis não podem ser negativas.\n"
   ]
  },
  {
   "cell_type": "code",
   "execution_count": 32,
   "metadata": {},
   "outputs": [],
   "source": [
    "custos = [[30, 13, 21], \n",
    "          [12, 40, 26],\n",
    "          [27, 15, 35],\n",
    "          [37, 25, 19]]\n",
    "\n",
    "oferta = [433, 215,782,300]\n",
    "\n",
    "demanda = [697, 421, 612]\n",
    "\n",
    "m = len(oferta)\n",
    "n = len(demanda)"
   ]
  },
  {
   "cell_type": "code",
   "execution_count": 33,
   "metadata": {},
   "outputs": [],
   "source": [
    "# Modelo\n",
    "modelo = pyo.ConcreteModel()\n",
    "\n",
    "# Índices:\n",
    "modelo.I = pyo.RangeSet(m)\n",
    "modelo.J = pyo.RangeSet(n)\n",
    "\n",
    "# Parâmetros:\n",
    "modelo.c = pyo.Param(modelo.I, modelo.J, initialize=lambda modelo, i, j: custos[i-1][j-1])\n",
    "modelo.a = pyo.Param(modelo.I, initialize=lambda modelo, i: oferta[i-1])\n",
    "modelo.b = pyo.Param(modelo.J, initialize=lambda modelo, j: demanda[j-1])\n",
    "\n",
    "# Variáveis de decisão:\n",
    "modelo.x = pyo.Var(modelo.I, modelo.J, within=pyo.NonNegativeReals)"
   ]
  },
  {
   "cell_type": "code",
   "execution_count": 34,
   "metadata": {},
   "outputs": [],
   "source": [
    "# Função objetivo:\n",
    "def regra_z(mod):\n",
    "     return sum(mod.c[i,j]*mod.x[i,j] for i in mod.I for j in mod.J)\n",
    "\n",
    "modelo.z = pyo.Objective(rule=regra_z, sense=pyo.minimize) \n",
    "\n",
    "# Restrições:\n",
    "def regra_oferta(mod, i):\n",
    "    return sum(mod.x[i,j] for j in mod.J) <= mod.a[i]\n",
    "\n",
    "modelo.restr_oferta = pyo.Constraint(modelo.I, rule=regra_oferta)\n",
    "\n",
    "def regra_demanda(mod, j):\n",
    "    return sum(mod.x[i,j] for i in mod.I)== mod.b[j]\n",
    "\n",
    "modelo.restr_demanda = pyo.Constraint(modelo.J, rule=regra_demanda)"
   ]
  },
  {
   "cell_type": "code",
   "execution_count": 35,
   "metadata": {},
   "outputs": [],
   "source": [
    "otimizacao = pyo.SolverFactory('glpk').solve(modelo)"
   ]
  },
  {
   "cell_type": "code",
   "execution_count": 36,
   "metadata": {},
   "outputs": [
    {
     "name": "stdout",
     "output_type": "stream",
     "text": [
      "x : Size=12, Index=I*J\n",
      "    Key    : Lower : Value : Upper : Fixed : Stale : Domain\n",
      "    (1, 1) :     0 :   0.0 :  None : False : False : NonNegativeReals\n",
      "    (1, 2) :     0 : 121.0 :  None : False : False : NonNegativeReals\n",
      "    (1, 3) :     0 : 312.0 :  None : False : False : NonNegativeReals\n",
      "    (2, 1) :     0 : 215.0 :  None : False : False : NonNegativeReals\n",
      "    (2, 2) :     0 :   0.0 :  None : False : False : NonNegativeReals\n",
      "    (2, 3) :     0 :   0.0 :  None : False : False : NonNegativeReals\n",
      "    (3, 1) :     0 : 482.0 :  None : False : False : NonNegativeReals\n",
      "    (3, 2) :     0 : 300.0 :  None : False : False : NonNegativeReals\n",
      "    (3, 3) :     0 :   0.0 :  None : False : False : NonNegativeReals\n",
      "    (4, 1) :     0 :   0.0 :  None : False : False : NonNegativeReals\n",
      "    (4, 2) :     0 :   0.0 :  None : False : False : NonNegativeReals\n",
      "    (4, 3) :     0 : 300.0 :  None : False : False : NonNegativeReals\n"
     ]
    }
   ],
   "source": [
    "modelo.x.pprint()"
   ]
  },
  {
   "cell_type": "markdown",
   "metadata": {},
   "source": [
    "Solução otimizada:\n",
    "\n",
    "| Depósitos | Pedreira 1 | Pedreira 2 | Pedreira 3    | \n",
    "|-----------|-------------|-------------|-------------|\n",
    "| 1         |             | 121         | 312         | \n",
    "| 2         | 215         |             |             | \n",
    "| 3         | 482         | 300         |             | \n",
    "| 4         |             |             | 300         | \n",
    "\n"
   ]
  },
  {
   "cell_type": "code",
   "execution_count": 37,
   "metadata": {},
   "outputs": [
    {
     "name": "stdout",
     "output_type": "stream",
     "text": [
      "Custo mínimo: 33919.0\n"
     ]
    }
   ],
   "source": [
    "print(\"Custo mínimo:\",modelo.z())"
   ]
  },
  {
   "cell_type": "code",
   "execution_count": null,
   "metadata": {},
   "outputs": [],
   "source": []
  }
 ],
 "metadata": {
  "kernelspec": {
   "display_name": "Python 3",
   "language": "python",
   "name": "python3"
  },
  "language_info": {
   "codemirror_mode": {
    "name": "ipython",
    "version": 3
   },
   "file_extension": ".py",
   "mimetype": "text/x-python",
   "name": "python",
   "nbconvert_exporter": "python",
   "pygments_lexer": "ipython3",
   "version": "3.11.7"
  },
  "orig_nbformat": 4
 },
 "nbformat": 4,
 "nbformat_minor": 2
}
